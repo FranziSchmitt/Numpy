{
 "cells": [
  {
   "cell_type": "markdown",
   "metadata": {},
   "source": [
    "## NumPy Basics\n",
    "### create array"
   ]
  },
  {
   "cell_type": "code",
   "execution_count": 1,
   "metadata": {
    "scrolled": false
   },
   "outputs": [
    {
     "name": "stdout",
     "output_type": "stream",
     "text": [
      "<class 'numpy.ndarray'>\n"
     ]
    }
   ],
   "source": [
    "import numpy as np #from numpy import * --> no need for np. (array([(...)]))\n",
    "\n",
    "a = np.array([(1, 2, 3), (4, 5, 6.7)])\n",
    "print(type(a))"
   ]
  },
  {
   "cell_type": "markdown",
   "metadata": {},
   "source": [
    "### basic commands\n"
   ]
  },
  {
   "cell_type": "code",
   "execution_count": 2,
   "metadata": {},
   "outputs": [
    {
     "name": "stdout",
     "output_type": "stream",
     "text": [
      "2\n"
     ]
    }
   ],
   "source": [
    "print(a.ndim) #prints number of dimensions"
   ]
  },
  {
   "cell_type": "code",
   "execution_count": 3,
   "metadata": {},
   "outputs": [
    {
     "name": "stdout",
     "output_type": "stream",
     "text": [
      "(2, 3)\n"
     ]
    }
   ],
   "source": [
    "print(a.shape) # number of rows, number of columns"
   ]
  },
  {
   "cell_type": "code",
   "execution_count": 4,
   "metadata": {},
   "outputs": [
    {
     "name": "stdout",
     "output_type": "stream",
     "text": [
      "6\n"
     ]
    }
   ],
   "source": [
    "print(a.size) # number of elements"
   ]
  },
  {
   "cell_type": "code",
   "execution_count": 5,
   "metadata": {},
   "outputs": [
    {
     "name": "stdout",
     "output_type": "stream",
     "text": [
      "float64\n"
     ]
    }
   ],
   "source": [
    "print(a.dtype) # prints datatype"
   ]
  },
  {
   "cell_type": "code",
   "execution_count": 6,
   "metadata": {},
   "outputs": [
    {
     "name": "stdout",
     "output_type": "stream",
     "text": [
      "8\n"
     ]
    }
   ],
   "source": [
    "print(a.itemsize) # bytes"
   ]
  },
  {
   "cell_type": "markdown",
   "metadata": {},
   "source": [
    "### create 'empty' array - pre-allocation\n"
   ]
  },
  {
   "cell_type": "code",
   "execution_count": 7,
   "metadata": {},
   "outputs": [
    {
     "data": {
      "text/plain": [
       "array([[0., 0., 0., 0.],\n",
       "       [0., 0., 0., 0.],\n",
       "       [0., 0., 0., 0.]])"
      ]
     },
     "execution_count": 7,
     "metadata": {},
     "output_type": "execute_result"
    }
   ],
   "source": [
    "np.zeros( (3, 4))"
   ]
  },
  {
   "cell_type": "code",
   "execution_count": 8,
   "metadata": {},
   "outputs": [],
   "source": [
    "b = np.zeros((2, 4)) #also works with 'ones'"
   ]
  },
  {
   "cell_type": "code",
   "execution_count": 9,
   "metadata": {},
   "outputs": [
    {
     "name": "stdout",
     "output_type": "stream",
     "text": [
      "[[0. 0. 0. 0.]\n",
      " [0. 0. 0. 0.]]\n"
     ]
    }
   ],
   "source": [
    "print(b)"
   ]
  },
  {
   "cell_type": "code",
   "execution_count": 10,
   "metadata": {},
   "outputs": [
    {
     "data": {
      "text/plain": [
       "array([[0., 0., 0., 0.],\n",
       "       [0., 0., 0., 0.],\n",
       "       [0., 0., 0., 0.]])"
      ]
     },
     "execution_count": 10,
     "metadata": {},
     "output_type": "execute_result"
    }
   ],
   "source": [
    "np.empty( (3, 4) ) #creates an array with random numbers"
   ]
  },
  {
   "cell_type": "markdown",
   "metadata": {},
   "source": [
    "##### random numbers exkurs -- see extra python tutorial on random numbers\n"
   ]
  },
  {
   "cell_type": "code",
   "execution_count": 11,
   "metadata": {},
   "outputs": [
    {
     "data": {
      "text/plain": [
       "array([[0.7231155 , 0.8613837 ],\n",
       "       [0.94331327, 0.50793395],\n",
       "       [0.62039163, 0.66371749]])"
      ]
     },
     "execution_count": 11,
     "metadata": {},
     "output_type": "execute_result"
    }
   ],
   "source": [
    "np.random.rand(3, 2) # alternatively import numpy.random"
   ]
  },
  {
   "cell_type": "code",
   "execution_count": 12,
   "metadata": {},
   "outputs": [
    {
     "data": {
      "text/plain": [
       "array([[ 1.42928849, -0.49296272,  0.60234121, -0.85164711, -0.32535486,\n",
       "        -1.38551047,  1.45691761],\n",
       "       [ 0.84893857,  0.91265982, -0.11053998, -0.4282406 ,  0.06190248,\n",
       "         0.72045787,  0.08207509],\n",
       "       [-0.00547012,  0.38546953, -0.95624242, -0.48066444, -0.48714805,\n",
       "        -0.70678316, -1.001593  ],\n",
       "       [ 0.7215912 ,  1.20915896,  0.27604879, -1.00047374,  0.70783754,\n",
       "         0.13283079,  0.69368188],\n",
       "       [ 1.26442055, -0.75259917, -1.09966769, -0.03011836, -1.91266154,\n",
       "        -0.48882023, -1.83263958]])"
      ]
     },
     "execution_count": 12,
     "metadata": {},
     "output_type": "execute_result"
    }
   ],
   "source": [
    "np.random.randn(5, 7) "
   ]
  },
  {
   "cell_type": "markdown",
   "metadata": {},
   "source": [
    "### create and reshape arrays"
   ]
  },
  {
   "cell_type": "code",
   "execution_count": 13,
   "metadata": {},
   "outputs": [
    {
     "name": "stdout",
     "output_type": "stream",
     "text": [
      "<class 'numpy.ndarray'>\n",
      "[10 15 20 25]\n"
     ]
    },
    {
     "data": {
      "text/plain": [
       "dtype('int32')"
      ]
     },
     "execution_count": 13,
     "metadata": {},
     "output_type": "execute_result"
    }
   ],
   "source": [
    "import numpy as np\n",
    "d = np.arange(10, 30, 5)\n",
    "print(type(d))\n",
    "print(d)\n",
    "d.dtype"
   ]
  },
  {
   "cell_type": "code",
   "execution_count": 14,
   "metadata": {},
   "outputs": [
    {
     "name": "stdout",
     "output_type": "stream",
     "text": [
      "[10.   9.5  9.   8.5  8.   7.5  7.   6.5  6.   5.5  5.   4.5  4.   3.5\n",
      "  3.   2.5  2.   1.5]\n"
     ]
    }
   ],
   "source": [
    "d = np.arange(10, 1, -0.5)\n",
    "print(d)"
   ]
  },
  {
   "cell_type": "code",
   "execution_count": 15,
   "metadata": {},
   "outputs": [
    {
     "name": "stdout",
     "output_type": "stream",
     "text": [
      "[10. 15. 20. 25. 30.]\n"
     ]
    },
    {
     "data": {
      "text/plain": [
       "dtype('float64')"
      ]
     },
     "execution_count": 15,
     "metadata": {},
     "output_type": "execute_result"
    }
   ],
   "source": [
    "# note the difference to arange above!\n",
    "d = np.linspace(10, 30, 5)\n",
    "print(d)\n",
    "d.dtype"
   ]
  },
  {
   "cell_type": "code",
   "execution_count": 16,
   "metadata": {},
   "outputs": [
    {
     "name": "stdout",
     "output_type": "stream",
     "text": [
      "[[ 0  1  2  3]\n",
      " [ 4  5  6  7]\n",
      " [ 8  9 10 11]]\n"
     ]
    }
   ],
   "source": [
    "d = np.arange(12)\n",
    "d = d.reshape(3, 4)\n",
    "print(d)"
   ]
  },
  {
   "cell_type": "code",
   "execution_count": 17,
   "metadata": {},
   "outputs": [
    {
     "name": "stdout",
     "output_type": "stream",
     "text": [
      "[[[ 0  1  2  3]\n",
      "  [ 4  5  6  7]\n",
      "  [ 8  9 10 11]]\n",
      "\n",
      " [[12 13 14 15]\n",
      "  [16 17 18 19]\n",
      "  [20 21 22 23]]]\n"
     ]
    }
   ],
   "source": [
    "d = np.arange(24)\n",
    "d = d.reshape(2, 3, 4)\n",
    "print(d)"
   ]
  },
  {
   "cell_type": "markdown",
   "metadata": {},
   "source": [
    "### Element-wise arithmetics with arrays\n"
   ]
  },
  {
   "cell_type": "code",
   "execution_count": 18,
   "metadata": {
    "scrolled": true
   },
   "outputs": [
    {
     "name": "stdout",
     "output_type": "stream",
     "text": [
      "[[ 0  1  2  3]\n",
      " [ 4  5  6  7]\n",
      " [ 8  9 10 11]]\n",
      "[[ 1.  1.  1.  1.]\n",
      " [ 1. 10.  1.  1.]\n",
      " [ 1.  1.  1.  1.]]\n",
      "[[0.000000e+00 1.000000e+00 2.000000e+00 3.000000e+00]\n",
      " [4.000000e+00 9.765625e+06 6.000000e+00 7.000000e+00]\n",
      " [8.000000e+00 9.000000e+00 1.000000e+01 1.100000e+01]]\n"
     ]
    }
   ],
   "source": [
    "d1 = np.arange(12)\n",
    "d1 = d1.reshape(3, 4)\n",
    "d2 = np.ones((3, 4))\n",
    "d2[1, 1] = 10\n",
    "\n",
    "d3 = d1-d2\n",
    "d4 = d1**d2\n",
    "print(d1)\n",
    "print(d2)\n",
    "print(d4)"
   ]
  },
  {
   "cell_type": "code",
   "execution_count": 19,
   "metadata": {},
   "outputs": [
    {
     "name": "stdout",
     "output_type": "stream",
     "text": [
      "[[ 0  1  2  3]\n",
      " [ 4  5  6  7]\n",
      " [ 8  9 10 11]]\n"
     ]
    }
   ],
   "source": [
    "print(d1)"
   ]
  },
  {
   "cell_type": "code",
   "execution_count": 20,
   "metadata": {},
   "outputs": [
    {
     "name": "stdout",
     "output_type": "stream",
     "text": [
      "[[ 3  4  5  6]\n",
      " [ 7  8  9 10]\n",
      " [11 12 13 14]]\n"
     ]
    }
   ],
   "source": [
    "d1 += 3 # works with +, -, *, /\n",
    "print(d1)"
   ]
  },
  {
   "cell_type": "code",
   "execution_count": 21,
   "metadata": {
    "scrolled": true
   },
   "outputs": [
    {
     "data": {
      "text/plain": [
       "102"
      ]
     },
     "execution_count": 21,
     "metadata": {},
     "output_type": "execute_result"
    }
   ],
   "source": [
    "d1.sum() # .min(), .max(), .cumsum(axis=1/2)"
   ]
  },
  {
   "cell_type": "markdown",
   "metadata": {},
   "source": [
    "##### column/row-wise summation"
   ]
  },
  {
   "cell_type": "code",
   "execution_count": 22,
   "metadata": {},
   "outputs": [
    {
     "name": "stdout",
     "output_type": "stream",
     "text": [
      "[21 24 27 30]\n",
      "[18 34 50]\n"
     ]
    }
   ],
   "source": [
    "d5 = d1.sum(axis=0) # column-wise summation\n",
    "d6 = d1.sum(axis=1) # row-wise summation\n",
    "print(d5)\n",
    "print(d6)"
   ]
  },
  {
   "cell_type": "markdown",
   "metadata": {},
   "source": [
    "### Matric product using dot function"
   ]
  },
  {
   "cell_type": "code",
   "execution_count": 23,
   "metadata": {
    "scrolled": true
   },
   "outputs": [
    {
     "name": "stdout",
     "output_type": "stream",
     "text": [
      "[[0.27400331 0.61558162 0.4254761  0.86939948]\n",
      " [0.96682232 0.95492757 0.66461223 0.00569771]\n",
      " [0.3230131  0.19334915 0.68632631 0.68532966]\n",
      " [0.82565474 0.04922762 0.98256476 0.430869  ]]\n",
      "[[17.         18.06666667 19.13333333 20.2       ]\n",
      " [21.26666667 22.33333333 23.4        24.46666667]\n",
      " [25.53333333 26.6        27.66666667 28.73333333]\n",
      " [29.8        30.86666667 31.93333333 33.        ]]\n",
      "-----m3-----\n",
      "[[54.52135281 56.85144401 59.18153521 61.51162642]\n",
      " [53.88366303 56.64852685 59.41339067 62.17825448]\n",
      " [47.55013686 49.56402296 51.57790906 53.59179515]\n",
      " [53.01108788 55.45195842 57.89282895 60.33369949]]\n"
     ]
    }
   ],
   "source": [
    "m1 = np.random.random((4, 4))\n",
    "m2 = np.linspace(17, 33, 16).reshape(4, 4)\n",
    "print(m1)\n",
    "print(m2)\n",
    "print('-----m3-----')\n",
    "m3 = np.dot(m1, m2)\n",
    "print(m3)"
   ]
  },
  {
   "cell_type": "markdown",
   "metadata": {},
   "source": [
    "### Indexing, slicing, iterating"
   ]
  },
  {
   "cell_type": "code",
   "execution_count": 33,
   "metadata": {},
   "outputs": [
    {
     "name": "stdout",
     "output_type": "stream",
     "text": [
      "[ 2  4  6  8 10 12 14 16 18 20]\n",
      "[ 6  8 10]\n"
     ]
    }
   ],
   "source": [
    "d1 = np.linspace(2, 20, 10, dtype=int)\n",
    "print(d1)\n",
    "print(d1[2:5])"
   ]
  },
  {
   "cell_type": "code",
   "execution_count": 38,
   "metadata": {},
   "outputs": [
    {
     "name": "stdout",
     "output_type": "stream",
     "text": [
      "[100   4 100   8 100  12  14  16  18  20]\n"
     ]
    }
   ],
   "source": [
    "d2 = d1\n",
    "# line below in words: replace elements at positions 0 to 5 (the latter exclusive!),\n",
    "# in steps of 2, by 100\n",
    "d2[0:5:2] = 100\n",
    "print(d2)"
   ]
  },
  {
   "cell_type": "code",
   "execution_count": 41,
   "metadata": {},
   "outputs": [
    {
     "name": "stdout",
     "output_type": "stream",
     "text": [
      "[ 20  18  16  14  12 100   8 100   4 100]\n"
     ]
    }
   ],
   "source": [
    "# revert number of elements\n",
    "print(d1[: :-1])"
   ]
  },
  {
   "cell_type": "code",
   "execution_count": 50,
   "metadata": {},
   "outputs": [
    {
     "name": "stdout",
     "output_type": "stream",
     "text": [
      "100000000\n",
      "256\n",
      "100000000\n",
      "4096\n",
      "100000000\n",
      "20736\n",
      "38416\n",
      "65536\n",
      "104976\n",
      "160000\n"
     ]
    }
   ],
   "source": [
    "for i in d1:\n",
    "    print(i**4)"
   ]
  },
  {
   "cell_type": "code",
   "execution_count": 57,
   "metadata": {},
   "outputs": [
    {
     "name": "stdout",
     "output_type": "stream",
     "text": [
      "[[ 0  1  2  3]\n",
      " [ 4  5  6  7]\n",
      " [ 8  9 10 11]]\n"
     ]
    }
   ],
   "source": [
    "d2 = np.linspace(0,11,12,dtype=int).reshape(3,4)\n",
    "print(d2)"
   ]
  },
  {
   "cell_type": "code",
   "execution_count": 59,
   "metadata": {},
   "outputs": [
    {
     "name": "stdout",
     "output_type": "stream",
     "text": [
      "6\n"
     ]
    }
   ],
   "source": [
    "# one specific element\n",
    "print(d2[1, 2])"
   ]
  },
  {
   "cell_type": "code",
   "execution_count": 63,
   "metadata": {},
   "outputs": [
    {
     "name": "stdout",
     "output_type": "stream",
     "text": [
      "[[ 6  7]\n",
      " [10 11]]\n"
     ]
    }
   ],
   "source": [
    "# lower right 'corner' (remember the 'exclusive' thing)\n",
    "print(d2[1:3, 2:4])"
   ]
  },
  {
   "cell_type": "code",
   "execution_count": 67,
   "metadata": {},
   "outputs": [
    {
     "name": "stdout",
     "output_type": "stream",
     "text": [
      "[ 2  6 10]\n"
     ]
    }
   ],
   "source": [
    "# an entire column\n",
    "print(d2[:,2])"
   ]
  },
  {
   "cell_type": "code",
   "execution_count": 81,
   "metadata": {},
   "outputs": [
    {
     "data": {
      "text/plain": [
       "array([[ 0,  1,  2,  3],\n",
       "       [ 8,  9, 10, 11]])"
      ]
     },
     "execution_count": 81,
     "metadata": {},
     "output_type": "execute_result"
    }
   ],
   "source": [
    "d2[(0, 2),:]"
   ]
  },
  {
   "cell_type": "code",
   "execution_count": 86,
   "metadata": {},
   "outputs": [
    {
     "name": "stdout",
     "output_type": "stream",
     "text": [
      "(4, 3, 2)\n",
      "[[[0.         0.39130435]\n",
      "  [0.7826087  1.17391304]\n",
      "  [1.56521739 1.95652174]]\n",
      "\n",
      " [[2.34782609 2.73913043]\n",
      "  [3.13043478 3.52173913]\n",
      "  [3.91304348 4.30434783]]\n",
      "\n",
      " [[4.69565217 5.08695652]\n",
      "  [5.47826087 5.86956522]\n",
      "  [6.26086957 6.65217391]]\n",
      "\n",
      " [[7.04347826 7.43478261]\n",
      "  [7.82608696 8.2173913 ]\n",
      "  [8.60869565 9.        ]]]\n",
      "------------------------------\n",
      "[[0.         0.39130435]\n",
      " [0.7826087  1.17391304]\n",
      " [1.56521739 1.95652174]]\n"
     ]
    }
   ],
   "source": [
    "d3 = np.linspace(0, 9, 24).reshape(4, 3, 2)\n",
    "print(d3.shape)\n",
    "d4 = d3[0,...]\n",
    "print(d3)\n",
    "print(\"------------------------------\")\n",
    "print(d4)"
   ]
  },
  {
   "cell_type": "code",
   "execution_count": 97,
   "metadata": {},
   "outputs": [
    {
     "name": "stdout",
     "output_type": "stream",
     "text": [
      "[[ 0  1  2  3]\n",
      " [ 4  5  6  7]\n",
      " [ 8  9 10 11]]\n",
      "------------------------------\n",
      "[ 0  1  2  3  4  5  6  7  8  9 10 11]\n",
      "------------------------------\n",
      "(12,)\n"
     ]
    }
   ],
   "source": [
    "# flatten an array\n",
    "print(d2)\n",
    "print(\"------------------------------\")\n",
    "d3 = d2.ravel()\n",
    "print(d3)\n",
    "print(\"------------------------------\")\n",
    "print(d3.shape)"
   ]
  },
  {
   "cell_type": "code",
   "execution_count": 101,
   "metadata": {},
   "outputs": [
    {
     "name": "stdout",
     "output_type": "stream",
     "text": [
      "(2, 6)\n",
      "[[ 0  1  2  3  4  5]\n",
      " [ 6  7  8  9 10 11]]\n",
      "------------------------------\n",
      "(6, 2)\n",
      "[[ 0  6]\n",
      " [ 1  7]\n",
      " [ 2  8]\n",
      " [ 3  9]\n",
      " [ 4 10]\n",
      " [ 5 11]]\n"
     ]
    }
   ],
   "source": [
    "d3.shape = (2, 6)\n",
    "print(d3.shape)\n",
    "print(d3)\n",
    "print(\"------------------------------\")\n",
    "d3 = d3.transpose()\n",
    "print(d3.shape)\n",
    "print(d3)\n"
   ]
  }
 ],
 "metadata": {
  "kernelspec": {
   "display_name": "Python 3",
   "language": "python",
   "name": "python3"
  },
  "language_info": {
   "codemirror_mode": {
    "name": "ipython",
    "version": 3
   },
   "file_extension": ".py",
   "mimetype": "text/x-python",
   "name": "python",
   "nbconvert_exporter": "python",
   "pygments_lexer": "ipython3",
   "version": "3.6.5"
  }
 },
 "nbformat": 4,
 "nbformat_minor": 2
}
